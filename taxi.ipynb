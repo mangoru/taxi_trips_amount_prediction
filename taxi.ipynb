{
 "cells": [
  {
   "cell_type": "code",
   "execution_count": 5,
   "metadata": {},
   "outputs": [],
   "source": [
    "import pandas as pd\n",
    "from sklearn import model_selection\n",
    "from sklearn.linear_model import LogisticRegression\n",
    "import pickle\n"
   ]
  },
  {
   "cell_type": "code",
   "execution_count": 25,
   "metadata": {},
   "outputs": [
    {
     "data": {
      "text/plain": [
       "['Standard rate',\n",
       " 'JFK',\n",
       " 'Newark',\n",
       " 'Nassau or Westchester',\n",
       " 'Negotiated fare',\n",
       " 'Group ride']"
      ]
     },
     "execution_count": 25,
     "metadata": {},
     "output_type": "execute_result"
    }
   ],
   "source": [
    "rate_dic={\n",
    "    \"Standard rate\":1,\n",
    "    \"JFK\":2,\n",
    "    \"Newark\":3,\n",
    "    \"Nassau or Westchester\":4,\n",
    "    \"Negotiated fare\":5,\n",
    "    \"Group ride\":6\n",
    "}\n",
    "list(rate_dic.keys())"
   ]
  },
  {
   "cell_type": "code",
   "execution_count": 56,
   "metadata": {},
   "outputs": [
    {
     "name": "stderr",
     "output_type": "stream",
     "text": [
      "/home/mangoru/taxi_trips_amount_prediction/venv/lib/python3.8/site-packages/sklearn/base.py:329: UserWarning: Trying to unpickle estimator DecisionTreeRegressor from version 1.0.2 when using version 1.1.1. This might lead to breaking code or invalid results. Use at your own risk. For more info please refer to:\n",
      "https://scikit-learn.org/stable/model_persistence.html#security-maintainability-limitations\n",
      "  warnings.warn(\n"
     ]
    },
    {
     "data": {
      "text/plain": [
       "array([47.93093488])"
      ]
     },
     "execution_count": 56,
     "metadata": {},
     "output_type": "execute_result"
    }
   ],
   "source": [
    "filename = 'finalized_regtree.sav' \n",
    "# some time later...\n",
    "loaded_model = pickle.load(open(filename, 'rb'))\n",
    "X_new=pd.DataFrame([[2, 6,1,5]],columns=[\"id_rate\",\"trip_distance\",\"pu_borough\",\"do_borough\"])\n",
    "pred=loaded_model.predict(X_new)\n",
    "pred"
   ]
  },
  {
   "cell_type": "code",
   "execution_count": 29,
   "metadata": {},
   "outputs": [
    {
     "data": {
      "text/plain": [
       "10.556274428656826"
      ]
     },
     "execution_count": 29,
     "metadata": {},
     "output_type": "execute_result"
    }
   ],
   "source": [
    "pred[0]"
   ]
  }
 ],
 "metadata": {
  "kernelspec": {
   "display_name": "Python 3.8.10 ('venv': venv)",
   "language": "python",
   "name": "python3"
  },
  "language_info": {
   "codemirror_mode": {
    "name": "ipython",
    "version": 3
   },
   "file_extension": ".py",
   "mimetype": "text/x-python",
   "name": "python",
   "nbconvert_exporter": "python",
   "pygments_lexer": "ipython3",
   "version": "3.8.10"
  },
  "orig_nbformat": 4,
  "vscode": {
   "interpreter": {
    "hash": "442777f7e051c64359a07daf2c76f093ebd19181a7b57bac12ac73863ff3b799"
   }
  }
 },
 "nbformat": 4,
 "nbformat_minor": 2
}
